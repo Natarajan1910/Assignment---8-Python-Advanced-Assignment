{
 "cells": [
  {
   "cell_type": "code",
   "execution_count": null,
   "id": "38c7d279",
   "metadata": {},
   "outputs": [],
   "source": [
    "Q1. What are the two latest user-defined exception constraints in Python 3.X?\n",
    "\n",
    "Ans: \n",
    "    \n",
    "Python also provides an exception handling method with the help of try-except. Some of the standard exceptions which are most frequent include IndexError, ImportError, IOError, ZeroDivisionError, TypeError, and FileNotFoundError\n"
   ]
  },
  {
   "cell_type": "code",
   "execution_count": null,
   "id": "ebf6bf2b",
   "metadata": {},
   "outputs": [],
   "source": [
    "Q2. How are class-based exceptions that have been raised matched to handlers?\n",
    "\n",
    "Ans:\n",
    "\n",
    "User-defined Python exceptions can be either strings or Python classes. Since classes have many nice properties when used as exceptions, it is desirable to migrate to a situation where classes are used exclusively\n"
   ]
  },
  {
   "cell_type": "code",
   "execution_count": null,
   "id": "d9ac95f0",
   "metadata": {},
   "outputs": [],
   "source": [
    "Q3. Describe two methods for attaching context information to exception artefacts.\n",
    "\n",
    "Ans: \n",
    "    \n",
    "When raising a new exception (rather than using a bare raise to re-raise the exception currently being handled), the implicit exception context can be supplemented with an explicit cause by using from with raise:\n"
   ]
  },
  {
   "cell_type": "code",
   "execution_count": null,
   "id": "96fe75e2",
   "metadata": {},
   "outputs": [],
   "source": [
    "Q4. Describe two methods for specifying the text of an exception object's error message.\n",
    "\n",
    "Ans:\n",
    "    \n",
    "SystemExit\tRaised by the sys.exit() function.\n",
    "TypeError\tRaised when a function or operation is applied to an object of an incorrect type.\n"
   ]
  },
  {
   "cell_type": "code",
   "execution_count": null,
   "id": "6f87786e",
   "metadata": {},
   "outputs": [],
   "source": [
    "Q5. Why do you no longer use string-based exceptions?\n",
    "\n",
    "Ans: \n",
    "    \n",
    "This is because a string is a sequence; we must assume that error messages are always more than two characters long"
   ]
  }
 ],
 "metadata": {
  "kernelspec": {
   "display_name": "Python 3",
   "language": "python",
   "name": "python3"
  },
  "language_info": {
   "codemirror_mode": {
    "name": "ipython",
    "version": 3
   },
   "file_extension": ".py",
   "mimetype": "text/x-python",
   "name": "python",
   "nbconvert_exporter": "python",
   "pygments_lexer": "ipython3",
   "version": "3.8.8"
  }
 },
 "nbformat": 4,
 "nbformat_minor": 5
}
